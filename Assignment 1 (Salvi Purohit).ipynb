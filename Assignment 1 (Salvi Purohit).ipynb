{
 "cells": [
  {
   "cell_type": "code",
   "execution_count": 3,
   "id": "adf255a5",
   "metadata": {},
   "outputs": [],
   "source": [
    "## Create a tuple called data with two values, (1, 2) and (3, 4)\n",
    "data = ((1,2),(3,4) )"
   ]
  },
  {
   "cell_type": "code",
   "execution_count": 4,
   "id": "b4633d99",
   "metadata": {},
   "outputs": [
    {
     "data": {
      "text/plain": [
       "tuple"
      ]
     },
     "execution_count": 4,
     "metadata": {},
     "output_type": "execute_result"
    }
   ],
   "source": [
    "type(data)"
   ]
  },
  {
   "cell_type": "code",
   "execution_count": 29,
   "id": "5f561c08",
   "metadata": {},
   "outputs": [],
   "source": [
    "## Create the list [4, 3, 2, 1] and assign it to variable numbers.\n",
    "\n",
    "numbers = [4,3,2,1]"
   ]
  },
  {
   "cell_type": "code",
   "execution_count": 30,
   "id": "39b6accd",
   "metadata": {},
   "outputs": [
    {
     "data": {
      "text/plain": [
       "[4, 3, 2, 1]"
      ]
     },
     "execution_count": 30,
     "metadata": {},
     "output_type": "execute_result"
    }
   ],
   "source": [
    "## Create a copy of the number list using [:]\n",
    "\n",
    "copynumbers = numbers[:]\n",
    "copynumbers"
   ]
  },
  {
   "cell_type": "code",
   "execution_count": 31,
   "id": "6ceb9b41",
   "metadata": {},
   "outputs": [
    {
     "data": {
      "text/plain": [
       "[1, 2, 3, 4]"
      ]
     },
     "execution_count": 31,
     "metadata": {},
     "output_type": "execute_result"
    }
   ],
   "source": [
    "##Sort the numbers list in numerical order\n",
    "\n",
    "numbers.sort()\n",
    "numbers"
   ]
  },
  {
   "cell_type": "code",
   "execution_count": 1,
   "id": "86904683",
   "metadata": {},
   "outputs": [],
   "source": [
    "## Create a tuple \"cardinal_numbers\" with \"first\", \"second\" and \"third\"\n",
    "cardinal_numbers = (\"first\", \"second\",\"third\")"
   ]
  },
  {
   "cell_type": "code",
   "execution_count": 2,
   "id": "15772abe",
   "metadata": {},
   "outputs": [
    {
     "name": "stdout",
     "output_type": "stream",
     "text": [
      "first\n"
     ]
    }
   ],
   "source": [
    "print(cardinal_numbers[0])"
   ]
  },
  {
   "cell_type": "code",
   "execution_count": 3,
   "id": "cf89ec0d",
   "metadata": {},
   "outputs": [
    {
     "name": "stdout",
     "output_type": "stream",
     "text": [
      "second\n"
     ]
    }
   ],
   "source": [
    "## Display the second object in the tuple\n",
    "print(cardinal_numbers[1])"
   ]
  },
  {
   "cell_type": "code",
   "execution_count": 4,
   "id": "c9721524",
   "metadata": {},
   "outputs": [
    {
     "name": "stdout",
     "output_type": "stream",
     "text": [
      "third\n"
     ]
    }
   ],
   "source": [
    "print(cardinal_numbers[2])"
   ]
  },
  {
   "cell_type": "code",
   "execution_count": 7,
   "id": "29194527",
   "metadata": {},
   "outputs": [],
   "source": [
    "## Create a tuple containing the letters of your name from a string\n",
    "\n",
    "name= \"Salvi Purohit\""
   ]
  },
  {
   "cell_type": "code",
   "execution_count": 9,
   "id": "d2ae665e",
   "metadata": {},
   "outputs": [
    {
     "name": "stdout",
     "output_type": "stream",
     "text": [
      "('S', 'a', 'l', 'v', 'i', ' ', 'P', 'u', 'r', 'o', 'h', 'i', 't')\n"
     ]
    }
   ],
   "source": [
    "name_letters = tuple(name)\n",
    "print(name_letters)"
   ]
  },
  {
   "cell_type": "code",
   "execution_count": 14,
   "id": "da0a0e84",
   "metadata": {},
   "outputs": [
    {
     "name": "stdout",
     "output_type": "stream",
     "text": [
      "x is not in my name\n"
     ]
    }
   ],
   "source": [
    "## Check whether or not x is in my_name\n",
    "\n",
    "\n",
    "name= \"Salvi Purohit\"\n",
    "x= \"x\"\n",
    "if x in name:\n",
    "    print(\"x is in my name\")\n",
    "else:\n",
    "    print(\"x is not in my name\")"
   ]
  },
  {
   "cell_type": "code",
   "execution_count": 17,
   "id": "f739973a",
   "metadata": {},
   "outputs": [
    {
     "name": "stdout",
     "output_type": "stream",
     "text": [
      "x is in my name\n"
     ]
    }
   ],
   "source": [
    "## Check whether or not s is in my_name\n",
    "\n",
    "name= \"Salvi Purohit\"\n",
    "x= \"S\"\n",
    "if x in name:\n",
    "    print(\"x is in my name\")\n",
    "else:\n",
    "    print(\"x is not in my name\")"
   ]
  },
  {
   "cell_type": "code",
   "execution_count": null,
   "id": "1a0e4fbb",
   "metadata": {},
   "outputs": [],
   "source": []
  }
 ],
 "metadata": {
  "kernelspec": {
   "display_name": "Python 3 (ipykernel)",
   "language": "python",
   "name": "python3"
  },
  "language_info": {
   "codemirror_mode": {
    "name": "ipython",
    "version": 3
   },
   "file_extension": ".py",
   "mimetype": "text/x-python",
   "name": "python",
   "nbconvert_exporter": "python",
   "pygments_lexer": "ipython3",
   "version": "3.10.9"
  }
 },
 "nbformat": 4,
 "nbformat_minor": 5
}
