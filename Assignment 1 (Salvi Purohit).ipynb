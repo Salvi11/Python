{
 "cells": [
  {
   "cell_type": "code",
   "execution_count": 3,
   "id": "adf255a5",
   "metadata": {},
   "outputs": [],
   "source": [
    "data = ((1,2),(3,4) )"
   ]
  },
  {
   "cell_type": "code",
   "execution_count": 4,
   "id": "b4633d99",
   "metadata": {},
   "outputs": [
    {
     "data": {
      "text/plain": [
       "tuple"
      ]
     },
     "execution_count": 4,
     "metadata": {},
     "output_type": "execute_result"
    }
   ],
   "source": [
    "type(data)"
   ]
  },
  {
   "cell_type": "code",
   "execution_count": 7,
   "id": "fb25ea93",
   "metadata": {},
   "outputs": [],
   "source": [
    "Datalist= [4,3,2,1]"
   ]
  },
  {
   "cell_type": "code",
   "execution_count": 21,
   "id": "7c17edd0",
   "metadata": {
    "scrolled": true
   },
   "outputs": [
    {
     "name": "stdout",
     "output_type": "stream",
     "text": [
      "None\n"
     ]
    }
   ],
   "source": [
    "print(Datalist.sort())"
   ]
  },
  {
   "cell_type": "code",
   "execution_count": 8,
   "id": "77a7ab5c",
   "metadata": {},
   "outputs": [
    {
     "data": {
      "text/plain": [
       "list"
      ]
     },
     "execution_count": 8,
     "metadata": {},
     "output_type": "execute_result"
    }
   ],
   "source": [
    "type(Datalist)"
   ]
  },
  {
   "cell_type": "code",
   "execution_count": 12,
   "id": "372d5497",
   "metadata": {},
   "outputs": [
    {
     "name": "stdout",
     "output_type": "stream",
     "text": [
      "[4, 3, 2, 1]\n"
     ]
    }
   ],
   "source": [
    "print(Datalist[0:4])"
   ]
  },
  {
   "cell_type": "code",
   "execution_count": 1,
   "id": "86904683",
   "metadata": {},
   "outputs": [],
   "source": [
    "cardinal_numbers = (\"first\", \"second\",\"third\")"
   ]
  },
  {
   "cell_type": "code",
   "execution_count": 2,
   "id": "15772abe",
   "metadata": {},
   "outputs": [
    {
     "name": "stdout",
     "output_type": "stream",
     "text": [
      "first\n"
     ]
    }
   ],
   "source": [
    "print(cardinal_numbers[0])"
   ]
  },
  {
   "cell_type": "code",
   "execution_count": 3,
   "id": "05c9a20f",
   "metadata": {},
   "outputs": [
    {
     "name": "stdout",
     "output_type": "stream",
     "text": [
      "second\n"
     ]
    }
   ],
   "source": [
    "print(cardinal_numbers[1])"
   ]
  },
  {
   "cell_type": "code",
   "execution_count": 4,
   "id": "817f97a9",
   "metadata": {},
   "outputs": [
    {
     "name": "stdout",
     "output_type": "stream",
     "text": [
      "third\n"
     ]
    }
   ],
   "source": [
    "print(cardinal_numbers[2])"
   ]
  },
  {
   "cell_type": "code",
   "execution_count": 7,
   "id": "fabd1793",
   "metadata": {},
   "outputs": [],
   "source": [
    "name= \"Salvi Purohit\""
   ]
  },
  {
   "cell_type": "code",
   "execution_count": 9,
   "id": "55f1a264",
   "metadata": {},
   "outputs": [
    {
     "name": "stdout",
     "output_type": "stream",
     "text": [
      "('S', 'a', 'l', 'v', 'i', ' ', 'P', 'u', 'r', 'o', 'h', 'i', 't')\n"
     ]
    }
   ],
   "source": [
    "name_letters = tuple(name)\n",
    "print(name_letters)"
   ]
  },
  {
   "cell_type": "code",
   "execution_count": 14,
   "id": "f05e6ea6",
   "metadata": {},
   "outputs": [
    {
     "name": "stdout",
     "output_type": "stream",
     "text": [
      "x is not in my name\n"
     ]
    }
   ],
   "source": [
    "name= \"Salvi Purohit\"\n",
    "x= \"x\"\n",
    "if x in name:\n",
    "    print(\"x is in my name\")\n",
    "else:\n",
    "    print(\"x is not in my name\")"
   ]
  },
  {
   "cell_type": "code",
   "execution_count": 17,
   "id": "4754cd70",
   "metadata": {},
   "outputs": [
    {
     "name": "stdout",
     "output_type": "stream",
     "text": [
      "x is in my name\n"
     ]
    }
   ],
   "source": [
    "name= \"Salvi Purohit\"\n",
    "x= \"S\"\n",
    "if x in name:\n",
    "    print(\"x is in my name\")\n",
    "else:\n",
    "    print(\"x is not in my name\")"
   ]
  },
  {
   "cell_type": "code",
   "execution_count": null,
   "id": "82d0f805",
   "metadata": {},
   "outputs": [],
   "source": []
  }
 ],
 "metadata": {
  "kernelspec": {
   "display_name": "Python 3 (ipykernel)",
   "language": "python",
   "name": "python3"
  },
  "language_info": {
   "codemirror_mode": {
    "name": "ipython",
    "version": 3
   },
   "file_extension": ".py",
   "mimetype": "text/x-python",
   "name": "python",
   "nbconvert_exporter": "python",
   "pygments_lexer": "ipython3",
   "version": "3.10.9"
  }
 },
 "nbformat": 4,
 "nbformat_minor": 5
}
