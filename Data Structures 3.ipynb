{
 "cells": [
  {
   "cell_type": "markdown",
   "id": "7a3bba5a",
   "metadata": {},
   "source": [
    "# Loops"
   ]
  },
  {
   "cell_type": "markdown",
   "id": "5bf5fb68",
   "metadata": {},
   "source": [
    "#### While loops"
   ]
  },
  {
   "cell_type": "code",
   "execution_count": 1,
   "id": "b4ff156e",
   "metadata": {},
   "outputs": [
    {
     "name": "stdout",
     "output_type": "stream",
     "text": [
      "Addition is 55\n"
     ]
    }
   ],
   "source": [
    "# program to find the summation of all natural numbers till 10\n",
    "num=10\n",
    "\n",
    "#initialize addition and counter\n",
    "addition=0\n",
    "i=1\n",
    "while(i<=num):                 #while loop with the termination condition\n",
    "    \n",
    "    addition=addition+i\n",
    "    i=i+1                      # incrementing the counter by 1 everytime the loop is executed\n",
    "    \n",
    "print(\"Addition is\", addition) # print the sum"
   ]
  },
  {
   "cell_type": "code",
   "execution_count": 2,
   "id": "a546dba2",
   "metadata": {},
   "outputs": [
    {
     "name": "stdout",
     "output_type": "stream",
     "text": [
      "Addition is 55\n"
     ]
    }
   ],
   "source": [
    "# program to find the summation of all natural numbers till 10 using 'for loop'\n",
    "\n",
    "num = range(1,11)\n",
    "addition=0\n",
    "for i in num:                    # i takes one value at a time from 1 till 10 after every single iteration\n",
    "    addition = addition+i\n",
    "print(\"Addition is\", addition)"
   ]
  },
  {
   "cell_type": "markdown",
   "id": "a7b57843",
   "metadata": {},
   "source": [
    "#### Iteration is a general term for taking each item from a sequence one after another"
   ]
  },
  {
   "cell_type": "code",
   "execution_count": 20,
   "id": "cffd5c1c",
   "metadata": {},
   "outputs": [
    {
     "name": "stdout",
     "output_type": "stream",
     "text": [
      "K\n",
      "n\n",
      "o\n",
      "w\n",
      "l\n",
      "e\n",
      "d\n",
      "g\n",
      "e\n",
      " \n",
      "for loop stopped execution\n"
     ]
    }
   ],
   "source": [
    "text=\"Knowledge hut\"\n",
    "for letter in text:     # letter take one letter at a time for every iteration over the string\n",
    "    if letter=='h':     # condition to stop the execution of the loop\n",
    "        break\n",
    "    print(letter)\n",
    "print(\"for loop stopped execution\")"
   ]
  },
  {
   "cell_type": "code",
   "execution_count": 19,
   "id": "72d092b3",
   "metadata": {},
   "outputs": [
    {
     "name": "stdout",
     "output_type": "stream",
     "text": [
      "K\n",
      "n\n",
      "o\n",
      "w\n",
      "l\n",
      "e\n",
      "d\n",
      "g\n",
      "e\n",
      "the loop skipped a space\n",
      "h\n",
      "u\n",
      "t\n"
     ]
    }
   ],
   "source": [
    "# declare a string variable\n",
    "text = \"Knowledge hut\"\n",
    "for letter in text:         # letter take one letter at a time for every iteration over the string\n",
    "    if letter==' ':         # condition to skip the execution of the loop\n",
    "        print(\"the loop skipped a space\")\n",
    "        continue\n",
    "    print(letter)"
   ]
  },
  {
   "cell_type": "code",
   "execution_count": 22,
   "id": "7fe100fb",
   "metadata": {},
   "outputs": [
    {
     "name": "stdout",
     "output_type": "stream",
     "text": [
      "K\n",
      "n\n",
      "o\n",
      "w\n",
      "l\n",
      "e\n",
      "for loop stopped execution\n"
     ]
    }
   ],
   "source": [
    "text=\"Knowledge\"\n",
    "for letter in text:\n",
    "    if letter=='d':\n",
    "        break\n",
    "    print(letter)\n",
    "print(\"for loop stopped execution\")"
   ]
  },
  {
   "cell_type": "code",
   "execution_count": 23,
   "id": "1269ca1f",
   "metadata": {},
   "outputs": [
    {
     "name": "stdout",
     "output_type": "stream",
     "text": [
      "K\n",
      "n\n",
      "o\n",
      "w\n",
      "for loop stopped execution\n"
     ]
    }
   ],
   "source": [
    "text=\"Knowing\"\n",
    "for letter in text:\n",
    "    if letter=='i':\n",
    "        break\n",
    "    print(letter)\n",
    "print(\"for loop stopped execution\")"
   ]
  },
  {
   "cell_type": "code",
   "execution_count": 24,
   "id": "871d2d2a",
   "metadata": {},
   "outputs": [
    {
     "name": "stdout",
     "output_type": "stream",
     "text": [
      "c\n",
      "o\n",
      "f\n",
      "f\n",
      "e\n",
      "e\n",
      "the loop skipped a space\n",
      "w\n",
      "i\n",
      "t\n",
      "h\n",
      "the loop skipped a space\n",
      "k\n",
      "a\n",
      "r\n",
      "a\n",
      "n\n"
     ]
    }
   ],
   "source": [
    "text = \"coffee with karan\"\n",
    "for letter in text:\n",
    "    if letter==' ':\n",
    "        print(\"the loop skipped a space\")\n",
    "        continue\n",
    "    print(letter)"
   ]
  },
  {
   "cell_type": "code",
   "execution_count": 30,
   "id": "4faf64e6",
   "metadata": {},
   "outputs": [
    {
     "name": "stdout",
     "output_type": "stream",
     "text": [
      "enter a number of levels5\n",
      "1 \n",
      "\n",
      "2 2 \n",
      "\n",
      "3 3 3 \n",
      "\n",
      "4 4 4 4 \n",
      "\n",
      "5 5 5 5 5 \n",
      "\n"
     ]
    }
   ],
   "source": [
    "# print a number pattern using a loop and range function\n",
    "# take levels from user\n",
    "\n",
    "levels= int(input(\"enter a number of levels\"))\n",
    "for level in range(1, levels+1):\n",
    "    for num in range (level):\n",
    "        print(level, end=\" \")  #print number\n",
    "        \n",
    "    #new line after each row to display pattern correctly\n",
    "    print(\"\\n\")\n",
    "    "
   ]
  },
  {
   "cell_type": "code",
   "execution_count": 32,
   "id": "23fc7eb7",
   "metadata": {},
   "outputs": [
    {
     "name": "stdout",
     "output_type": "stream",
     "text": [
      "1 \n",
      "\n",
      "2 2 \n",
      "\n",
      "3 3 3 \n",
      "\n",
      "4 4 4 4 \n",
      "\n"
     ]
    }
   ],
   "source": [
    "for i in range(1,5):\n",
    "    for a in range(i):\n",
    "        print(i, end=\" \")\n",
    "    print(\"\\n\")"
   ]
  },
  {
   "cell_type": "code",
   "execution_count": 33,
   "id": "c8aed607",
   "metadata": {},
   "outputs": [
    {
     "name": "stdout",
     "output_type": "stream",
     "text": [
      "1 2 2 3 3 3 4 4 4 4 "
     ]
    }
   ],
   "source": [
    "for i in range(1,5):\n",
    "    for a in range(i):\n",
    "        print(i, end=\" \")\n",
    "  "
   ]
  },
  {
   "cell_type": "code",
   "execution_count": 34,
   "id": "5029610a",
   "metadata": {},
   "outputs": [
    {
     "name": "stdout",
     "output_type": "stream",
     "text": [
      "1 \n",
      "\n",
      "2 \n",
      "\n",
      "2 \n",
      "\n",
      "3 \n",
      "\n",
      "3 \n",
      "\n",
      "3 \n",
      "\n",
      "4 \n",
      "\n",
      "4 \n",
      "\n",
      "4 \n",
      "\n",
      "4 \n",
      "\n"
     ]
    }
   ],
   "source": [
    "for i in range(1,5):\n",
    "    for a in range(i):\n",
    "        print(i, end=\" \")\n",
    "        print(\"\\n\")"
   ]
  },
  {
   "cell_type": "code",
   "execution_count": null,
   "id": "b4418485",
   "metadata": {},
   "outputs": [],
   "source": []
  }
 ],
 "metadata": {
  "kernelspec": {
   "display_name": "Python 3 (ipykernel)",
   "language": "python",
   "name": "python3"
  },
  "language_info": {
   "codemirror_mode": {
    "name": "ipython",
    "version": 3
   },
   "file_extension": ".py",
   "mimetype": "text/x-python",
   "name": "python",
   "nbconvert_exporter": "python",
   "pygments_lexer": "ipython3",
   "version": "3.10.9"
  }
 },
 "nbformat": 4,
 "nbformat_minor": 5
}
